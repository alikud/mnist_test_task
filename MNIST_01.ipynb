{
  "nbformat": 4,
  "nbformat_minor": 0,
  "metadata": {
    "colab": {
      "provenance": []
    },
    "kernelspec": {
      "name": "python3",
      "display_name": "Python 3"
    },
    "language_info": {
      "name": "python"
    }
  },
  "cells": [
    {
      "cell_type": "code",
      "execution_count": null,
      "metadata": {
        "id": "TIJrkfQiS7fA"
      },
      "outputs": [],
      "source": [
        "#Создадим окружение для работы\n",
        "!python3 -m venv env\n",
        "!source env/bin/activate\n",
        "!pip install -r requirements.txt"
      ]
    },
    {
      "cell_type": "code",
      "source": [
        "import numpy as np\n",
        "import tensorflow as tf\n",
        "from tensorflow import keras\n",
        "from sklearn.model_selection import train_test_split\n",
        "from sklearn.metrics import accuracy_score\n",
        "from matplotlib import pyplot as plt"
      ],
      "metadata": {
        "id": "xy1ne_WXJ6Zo"
      },
      "execution_count": 177,
      "outputs": []
    },
    {
      "cell_type": "code",
      "source": [
        "#https://www.tensorflow.org/datasets/catalog/mnist\n",
        "# Скачиваем требуемый датасет, он уже разделен на тестовый и тренировочный набор данных\n",
        "\n",
        "(X_train, y_train), (X_test, y_test) = keras.datasets.mnist.load_data()"
      ],
      "metadata": {
        "id": "4x4Ta6BiTIHV"
      },
      "execution_count": 178,
      "outputs": []
    },
    {
      "cell_type": "code",
      "source": [
        "#Создадим новый набор данных с рандомизацией и разбивкой, 0.2 для теста, 0.8 для обучения\n",
        "X_train, X_val, y_train, y_val = train_test_split(X_train, y_train, test_size=0.2, random_state=42)\n",
        "print(X_train.shape)\n",
        "print(X_val.shape)\n",
        "print(y_train.shape)\n",
        "print(y_val.shape)"
      ],
      "metadata": {
        "id": "yTKr5WJIUOVW",
        "colab": {
          "base_uri": "https://localhost:8080/"
        },
        "outputId": "3d371db2-1538-4f5f-c7b0-905116fb01d3"
      },
      "execution_count": 188,
      "outputs": [
        {
          "output_type": "stream",
          "name": "stdout",
          "text": [
            "(24576, 28, 28)\n",
            "(6144, 28, 28)\n",
            "(24576,)\n",
            "(6144,)\n"
          ]
        }
      ]
    },
    {
      "cell_type": "code",
      "source": [
        "#визуализируем то, с чем работаем\n",
        "plt.figure(figsize=(10,10))\n",
        "for i in range(10):\n",
        "    plt.subplot(5,5,i+1)\n",
        "    plt.xticks([])\n",
        "    plt.yticks([])\n",
        "    plt.grid(False)\n",
        "    plt.imshow(X_train[i], cmap=plt.cm.binary)\n",
        "    plt.xlabel(y_train[i])\n",
        "plt.show()\n",
        "\n"
      ],
      "metadata": {
        "colab": {
          "base_uri": "https://localhost:8080/",
          "height": 348
        },
        "id": "m-tOG62JQPWI",
        "outputId": "53ca33aa-6774-4ff0-84e8-3320188a2d93"
      },
      "execution_count": 189,
      "outputs": [
        {
          "output_type": "display_data",
          "data": {
            "text/plain": [
              "<Figure size 1000x1000 with 10 Axes>"
            ],
            "image/png": "[encoded data removed]"
          },
          "metadata": {}
        }
      ]
    },
    {
      "cell_type": "code",
      "source": [
        "#Создаем модель, используем relu функцию активации и softmax на последнем слое, которая хорошо подходит, для задач класификации,\n",
        "#поскольку цифр 10 то и классов 10.\n",
        "#известна информация о изображении Image(shape=(28, 28, 1), dtype=uint8), поэтому в первом слое 28,28\n",
        "#так же добавим dropout c коэфициентом 0.2 чтобы избежать переобучения модели\n",
        "\n",
        "model = keras.Sequential([\n",
        "    keras.layers.Flatten(input_shape=(28, 28)),\n",
        "    keras.layers.Dense(64, activation='relu'),\n",
        "    keras.layers.Dropout(0.2),\n",
        "    keras.layers.Dense(10, activation='softmax')\n",
        "])\n"
      ],
      "metadata": {
        "id": "I4fph097UOYM"
      },
      "execution_count": 198,
      "outputs": []
    },
    {
      "cell_type": "code",
      "source": [
        "# Для сравнения используем несколько вариантов оптимизаторов, Adamax, Adadelta , sgd, adam\n",
        "# а так же несколько вариантов функции потерь,\n",
        "# таких как sparse categorical crossentropy, categorical hinge и Poisson loss function\n",
        "# В каждой из моделей ходим максимизировать точность, поэтому этот параметр будет везде одинаков\n",
        "# Немного математики касаемо функции потерь, http://www.100byte.ru/python/loss/loss.html\n",
        "# Кратко о оптимизаторах https://towardsdatascience.com/7-tips-to-choose-the-best-optimizer-47bb9c1219e\n",
        "\n",
        "\n",
        "optimizers = ['Adamax', 'Adadelta', 'Sgd','Adam']\n",
        "f_loses = ['sparse_categorical_crossentropy', 'categorical_hinge', 'poisson']\n",
        "id_model = {}\n",
        "\n",
        "for optimizer in optimizers:\n",
        "  for f_los in f_loses:\n",
        "    model_id = f'Optimizer {optimizer} loss function {f_los}'\n",
        "    model.compile(optimizer=optimizer, loss=f_los, metrics=['accuracy'])\n",
        "    fited_model = model.fit(X_train, y_train, epochs=10, batch_size=128)\n",
        "    predictions = model.predict(X_val)\n",
        "\n",
        "    # Сохраним модели для работы в будующем\n",
        "    id_model[model_id] = fited_model"
      ],
      "metadata": {
        "colab": {
          "base_uri": "https://localhost:8080/"
        },
        "id": "ue9X_qaN3rKX",
        "outputId": "d798401e-cf02-4494-f8da-dc2bb67dfed9"
      },
      "execution_count": 199,
      "outputs": [
        {
          "output_type": "stream",
          "name": "stdout",
          "text": [
            "Epoch 1/10\n",
            "192/192 [==============================] - 1s 4ms/step - loss: 18.2340 - accuracy: 0.5188\n",
            "Epoch 2/10\n",
            "192/192 [==============================] - 1s 4ms/step - loss: 2.8041 - accuracy: 0.5019\n",
            "Epoch 3/10\n",
            "192/192 [==============================] - 1s 4ms/step - loss: 1.9137 - accuracy: 0.4943\n",
            "Epoch 4/10\n",
            "192/192 [==============================] - 1s 4ms/step - loss: 1.6091 - accuracy: 0.5291\n",
            "Epoch 5/10\n",
            "192/192 [==============================] - 1s 4ms/step - loss: 1.4441 - accuracy: 0.5700\n",
            "Epoch 6/10\n",
            "192/192 [==============================] - 1s 4ms/step - loss: 1.3138 - accuracy: 0.6206\n",
            "Epoch 7/10\n",
            "192/192 [==============================] - 1s 4ms/step - loss: 1.2123 - accuracy: 0.6462\n",
            "Epoch 8/10\n",
            "192/192 [==============================] - 1s 3ms/step - loss: 1.1117 - accuracy: 0.6786\n",
            "Epoch 9/10\n",
            "192/192 [==============================] - 1s 4ms/step - loss: 1.0233 - accuracy: 0.6981\n",
            "Epoch 10/10\n",
            "192/192 [==============================] - 1s 4ms/step - loss: 0.9582 - accuracy: 0.7144\n",
            "192/192 [==============================] - 0s 1ms/step\n",
            "Epoch 1/10\n",
            "192/192 [==============================] - 2s 4ms/step - loss: 0.1231 - accuracy: 0.4764\n",
            "Epoch 2/10\n",
            "192/192 [==============================] - 1s 4ms/step - loss: 0.1164 - accuracy: 0.4048\n",
            "Epoch 3/10\n",
            "192/192 [==============================] - 1s 5ms/step - loss: 0.1147 - accuracy: 0.3799\n",
            "Epoch 4/10\n",
            "192/192 [==============================] - 1s 4ms/step - loss: 0.1132 - accuracy: 0.3896\n",
            "Epoch 5/10\n",
            "192/192 [==============================] - 1s 4ms/step - loss: 0.1121 - accuracy: 0.3809\n",
            "Epoch 6/10\n",
            "192/192 [==============================] - 1s 4ms/step - loss: 0.1112 - accuracy: 0.3796\n",
            "Epoch 7/10\n",
            "192/192 [==============================] - 1s 4ms/step - loss: 0.1105 - accuracy: 0.3843\n",
            "Epoch 8/10\n",
            "192/192 [==============================] - 1s 4ms/step - loss: 0.1101 - accuracy: 0.3912\n",
            "Epoch 9/10\n",
            "192/192 [==============================] - 1s 4ms/step - loss: 0.1100 - accuracy: 0.3815\n",
            "Epoch 10/10\n",
            "192/192 [==============================] - 1s 5ms/step - loss: 0.1098 - accuracy: 0.3711\n",
            "192/192 [==============================] - 0s 1ms/step\n",
            "Epoch 1/10\n",
            "192/192 [==============================] - 1s 4ms/step - loss: 13.9649 - accuracy: 0.2288\n",
            "Epoch 2/10\n",
            "192/192 [==============================] - 1s 4ms/step - loss: 11.1384 - accuracy: 0.1565\n",
            "Epoch 3/10\n",
            "192/192 [==============================] - 1s 4ms/step - loss: 10.5063 - accuracy: 0.1112\n",
            "Epoch 4/10\n",
            "192/192 [==============================] - 1s 4ms/step - loss: 10.3954 - accuracy: 0.1040\n",
            "Epoch 5/10\n",
            "192/192 [==============================] - 1s 4ms/step - loss: 10.3710 - accuracy: 0.0989\n",
            "Epoch 6/10\n",
            "192/192 [==============================] - 1s 4ms/step - loss: 10.3631 - accuracy: 0.1009\n",
            "Epoch 7/10\n",
            "192/192 [==============================] - 1s 4ms/step - loss: 10.3600 - accuracy: 0.0993\n",
            "Epoch 8/10\n",
            "192/192 [==============================] - 1s 4ms/step - loss: 10.3598 - accuracy: 0.1021\n",
            "Epoch 9/10\n",
            "192/192 [==============================] - 1s 4ms/step - loss: 10.3581 - accuracy: 0.0961\n",
            "Epoch 10/10\n",
            "192/192 [==============================] - 1s 4ms/step - loss: 10.3570 - accuracy: 0.0986\n",
            "192/192 [==============================] - 0s 2ms/step\n",
            "Epoch 1/10\n",
            "192/192 [==============================] - 2s 6ms/step - loss: 2.3019 - accuracy: 0.0998\n",
            "Epoch 2/10\n",
            "192/192 [==============================] - 1s 6ms/step - loss: 2.3021 - accuracy: 0.0997\n",
            "Epoch 3/10\n",
            "192/192 [==============================] - 1s 5ms/step - loss: 2.3019 - accuracy: 0.0998\n",
            "Epoch 4/10\n",
            "192/192 [==============================] - 1s 4ms/step - loss: 2.3020 - accuracy: 0.0997\n",
            "Epoch 5/10\n",
            "192/192 [==============================] - 1s 4ms/step - loss: 2.3019 - accuracy: 0.1035\n",
            "Epoch 6/10\n",
            "192/192 [==============================] - 1s 4ms/step - loss: 2.3018 - accuracy: 0.1051\n",
            "Epoch 7/10\n",
            "192/192 [==============================] - 1s 4ms/step - loss: 2.3019 - accuracy: 0.1052\n",
            "Epoch 8/10\n",
            "192/192 [==============================] - 1s 4ms/step - loss: 2.3019 - accuracy: 0.1052\n",
            "Epoch 9/10\n",
            "192/192 [==============================] - 1s 4ms/step - loss: 2.3019 - accuracy: 0.1104\n",
            "Epoch 10/10\n",
            "192/192 [==============================] - 1s 4ms/step - loss: 2.3019 - accuracy: 0.1117\n",
            "192/192 [==============================] - 0s 1ms/step\n",
            "Epoch 1/10\n",
            "192/192 [==============================] - 1s 4ms/step - loss: 0.1096 - accuracy: 0.1106\n",
            "Epoch 2/10\n",
            "192/192 [==============================] - 1s 5ms/step - loss: 0.1096 - accuracy: 0.1024\n",
            "Epoch 3/10\n",
            "192/192 [==============================] - 1s 6ms/step - loss: 0.1096 - accuracy: 0.1063\n",
            "Epoch 4/10\n",
            "192/192 [==============================] - 1s 6ms/step - loss: 0.1096 - accuracy: 0.1023\n",
            "Epoch 5/10\n",
            "192/192 [==============================] - 1s 5ms/step - loss: 0.1096 - accuracy: 0.1040\n",
            "Epoch 6/10\n",
            "192/192 [==============================] - 1s 4ms/step - loss: 0.1096 - accuracy: 0.1014\n",
            "Epoch 7/10\n",
            "192/192 [==============================] - 1s 8ms/step - loss: 0.1096 - accuracy: 0.1065\n",
            "Epoch 8/10\n",
            "192/192 [==============================] - 2s 10ms/step - loss: 0.1096 - accuracy: 0.1018\n",
            "Epoch 9/10\n",
            "192/192 [==============================] - 2s 10ms/step - loss: 0.1096 - accuracy: 0.1036\n",
            "Epoch 10/10\n",
            "192/192 [==============================] - 2s 9ms/step - loss: 0.1096 - accuracy: 0.1016\n",
            "192/192 [==============================] - 0s 1ms/step\n",
            "Epoch 1/10\n",
            "192/192 [==============================] - 1s 4ms/step - loss: 10.3557 - accuracy: 0.0991\n",
            "Epoch 2/10\n",
            "192/192 [==============================] - 1s 4ms/step - loss: 10.3564 - accuracy: 0.1001\n",
            "Epoch 3/10\n",
            "192/192 [==============================] - 1s 4ms/step - loss: 10.3563 - accuracy: 0.1001\n",
            "Epoch 4/10\n",
            "192/192 [==============================] - 1s 4ms/step - loss: 10.3564 - accuracy: 0.1001\n",
            "Epoch 5/10\n",
            "192/192 [==============================] - 1s 4ms/step - loss: 10.3563 - accuracy: 0.0999\n",
            "Epoch 6/10\n",
            "192/192 [==============================] - 1s 6ms/step - loss: 10.3564 - accuracy: 0.1000\n",
            "Epoch 7/10\n",
            "192/192 [==============================] - 1s 6ms/step - loss: 10.3555 - accuracy: 0.0999\n",
            "Epoch 8/10\n",
            "192/192 [==============================] - 1s 5ms/step - loss: 10.3564 - accuracy: 0.1000\n",
            "Epoch 9/10\n",
            "192/192 [==============================] - 1s 4ms/step - loss: 10.3564 - accuracy: 0.1000\n",
            "Epoch 10/10\n",
            "192/192 [==============================] - 1s 4ms/step - loss: 10.3560 - accuracy: 0.1000\n",
            "192/192 [==============================] - 0s 2ms/step\n",
            "Epoch 1/10\n",
            "192/192 [==============================] - 1s 3ms/step - loss: 2.1803 - accuracy: 0.1597\n",
            "Epoch 2/10\n",
            "192/192 [==============================] - 1s 4ms/step - loss: 2.0952 - accuracy: 0.1982\n",
            "Epoch 3/10\n",
            "192/192 [==============================] - 1s 4ms/step - loss: 2.0726 - accuracy: 0.2015\n",
            "Epoch 4/10\n",
            "192/192 [==============================] - 1s 3ms/step - loss: 2.0649 - accuracy: 0.2021\n",
            "Epoch 5/10\n",
            "192/192 [==============================] - 1s 3ms/step - loss: 2.0557 - accuracy: 0.2029\n",
            "Epoch 6/10\n",
            "192/192 [==============================] - 1s 3ms/step - loss: 2.0459 - accuracy: 0.2051\n",
            "Epoch 7/10\n",
            "192/192 [==============================] - 1s 3ms/step - loss: 2.0420 - accuracy: 0.2061\n",
            "Epoch 8/10\n",
            "192/192 [==============================] - 1s 3ms/step - loss: 2.0306 - accuracy: 0.2081\n",
            "Epoch 9/10\n",
            "192/192 [==============================] - 1s 4ms/step - loss: 2.0279 - accuracy: 0.2092\n",
            "Epoch 10/10\n",
            "192/192 [==============================] - 1s 5ms/step - loss: 2.0251 - accuracy: 0.2089\n",
            "192/192 [==============================] - 0s 2ms/step\n",
            "Epoch 1/10\n",
            "192/192 [==============================] - 1s 3ms/step - loss: 0.1107 - accuracy: 0.2071\n",
            "Epoch 2/10\n",
            "192/192 [==============================] - 1s 3ms/step - loss: 0.1105 - accuracy: 0.2077\n",
            "Epoch 3/10\n",
            "192/192 [==============================] - 1s 3ms/step - loss: 0.1104 - accuracy: 0.2030\n",
            "Epoch 4/10\n",
            "192/192 [==============================] - 1s 3ms/step - loss: 0.1103 - accuracy: 0.2052\n",
            "Epoch 5/10\n",
            "192/192 [==============================] - 1s 3ms/step - loss: 0.1103 - accuracy: 0.2057\n",
            "Epoch 6/10\n",
            "192/192 [==============================] - 1s 3ms/step - loss: 0.1103 - accuracy: 0.2030\n",
            "Epoch 7/10\n",
            "192/192 [==============================] - 1s 3ms/step - loss: 0.1103 - accuracy: 0.2024\n",
            "Epoch 8/10\n",
            "192/192 [==============================] - 1s 3ms/step - loss: 0.1103 - accuracy: 0.2015\n",
            "Epoch 9/10\n",
            "192/192 [==============================] - 1s 3ms/step - loss: 0.1103 - accuracy: 0.1990\n",
            "Epoch 10/10\n",
            "192/192 [==============================] - 1s 3ms/step - loss: 0.1103 - accuracy: 0.2026\n",
            "192/192 [==============================] - 1s 2ms/step\n",
            "Epoch 1/10\n",
            "192/192 [==============================] - 1s 4ms/step - loss: 10.4445 - accuracy: 0.1009\n",
            "Epoch 2/10\n",
            "192/192 [==============================] - 1s 4ms/step - loss: 10.3755 - accuracy: 0.1017\n",
            "Epoch 3/10\n",
            "192/192 [==============================] - 1s 3ms/step - loss: 10.3588 - accuracy: 0.1048\n",
            "Epoch 4/10\n",
            "192/192 [==============================] - 1s 3ms/step - loss: 10.3550 - accuracy: 0.1048\n",
            "Epoch 5/10\n",
            "192/192 [==============================] - 1s 3ms/step - loss: 10.3542 - accuracy: 0.1048\n",
            "Epoch 6/10\n",
            "192/192 [==============================] - 1s 3ms/step - loss: 10.3541 - accuracy: 0.1047\n",
            "Epoch 7/10\n",
            "192/192 [==============================] - 1s 4ms/step - loss: 10.3541 - accuracy: 0.1048\n",
            "Epoch 8/10\n",
            "192/192 [==============================] - 1s 4ms/step - loss: 10.3541 - accuracy: 0.1048\n",
            "Epoch 9/10\n",
            "192/192 [==============================] - 1s 4ms/step - loss: 10.3541 - accuracy: 0.1048\n",
            "Epoch 10/10\n",
            "192/192 [==============================] - 1s 3ms/step - loss: 10.3541 - accuracy: 0.1048\n",
            "192/192 [==============================] - 0s 2ms/step\n",
            "Epoch 1/10\n",
            "192/192 [==============================] - 2s 5ms/step - loss: 2.2434 - accuracy: 0.1264\n",
            "Epoch 2/10\n",
            "192/192 [==============================] - 1s 4ms/step - loss: 2.0995 - accuracy: 0.1910\n",
            "Epoch 3/10\n",
            "192/192 [==============================] - 1s 4ms/step - loss: 2.0888 - accuracy: 0.1914\n",
            "Epoch 4/10\n",
            "192/192 [==============================] - 1s 4ms/step - loss: 2.0815 - accuracy: 0.1925\n",
            "Epoch 5/10\n",
            "192/192 [==============================] - 1s 4ms/step - loss: 2.0764 - accuracy: 0.1933\n",
            "Epoch 6/10\n",
            "192/192 [==============================] - 1s 4ms/step - loss: 2.0735 - accuracy: 0.1947\n",
            "Epoch 7/10\n",
            "192/192 [==============================] - 1s 4ms/step - loss: 2.0629 - accuracy: 0.1978\n",
            "Epoch 8/10\n",
            "192/192 [==============================] - 1s 4ms/step - loss: 2.0530 - accuracy: 0.2037\n",
            "Epoch 9/10\n",
            "192/192 [==============================] - 1s 4ms/step - loss: 2.0448 - accuracy: 0.2051\n",
            "Epoch 10/10\n",
            "192/192 [==============================] - 1s 4ms/step - loss: 2.0407 - accuracy: 0.2085\n",
            "192/192 [==============================] - 0s 1ms/step\n",
            "Epoch 1/10\n",
            "192/192 [==============================] - 2s 5ms/step - loss: 0.1107 - accuracy: 0.1860\n",
            "Epoch 2/10\n",
            "192/192 [==============================] - 1s 5ms/step - loss: 0.1103 - accuracy: 0.1881\n",
            "Epoch 3/10\n",
            "192/192 [==============================] - 1s 5ms/step - loss: 0.1102 - accuracy: 0.1868\n",
            "Epoch 4/10\n",
            "192/192 [==============================] - 1s 4ms/step - loss: 0.1101 - accuracy: 0.1823\n",
            "Epoch 5/10\n",
            "192/192 [==============================] - 1s 4ms/step - loss: 0.1099 - accuracy: 0.1838\n",
            "Epoch 6/10\n",
            "192/192 [==============================] - 1s 4ms/step - loss: 0.1097 - accuracy: 0.1787\n",
            "Epoch 7/10\n",
            "192/192 [==============================] - 1s 4ms/step - loss: 0.1096 - accuracy: 0.1759\n",
            "Epoch 8/10\n",
            "192/192 [==============================] - 1s 4ms/step - loss: 0.1096 - accuracy: 0.1758\n",
            "Epoch 9/10\n",
            "192/192 [==============================] - 1s 4ms/step - loss: 0.1096 - accuracy: 0.1685\n",
            "Epoch 10/10\n",
            "192/192 [==============================] - 1s 4ms/step - loss: 0.1096 - accuracy: 0.1656\n",
            "192/192 [==============================] - 0s 2ms/step\n",
            "Epoch 1/10\n",
            "192/192 [==============================] - 1s 4ms/step - loss: 10.3675 - accuracy: 0.1065\n",
            "Epoch 2/10\n",
            "192/192 [==============================] - 1s 4ms/step - loss: 10.3541 - accuracy: 0.1012\n",
            "Epoch 3/10\n",
            "192/192 [==============================] - 1s 4ms/step - loss: 10.3541 - accuracy: 0.1021\n",
            "Epoch 4/10\n",
            "192/192 [==============================] - 1s 4ms/step - loss: 10.3541 - accuracy: 0.0992\n",
            "Epoch 5/10\n",
            "192/192 [==============================] - 1s 6ms/step - loss: 10.3541 - accuracy: 0.1020\n",
            "Epoch 6/10\n",
            "192/192 [==============================] - 1s 6ms/step - loss: 10.3541 - accuracy: 0.0955\n",
            "Epoch 7/10\n",
            "192/192 [==============================] - 1s 5ms/step - loss: 10.3541 - accuracy: 0.0974\n",
            "Epoch 8/10\n",
            "192/192 [==============================] - 1s 3ms/step - loss: 10.3541 - accuracy: 0.0991\n",
            "Epoch 9/10\n",
            "192/192 [==============================] - 1s 4ms/step - loss: 10.3541 - accuracy: 0.0992\n",
            "Epoch 10/10\n",
            "192/192 [==============================] - 1s 4ms/step - loss: 10.3541 - accuracy: 0.0999\n",
            "192/192 [==============================] - 0s 1ms/step\n"
          ]
        }
      ]
    },
    {
      "cell_type": "code",
      "source": [
        "acc_vals = []\n",
        "acc_labels = []\n",
        "loss_vals = []\n",
        "\n",
        "best_model_id = ''\n",
        "max_acc = 0\n",
        "\n",
        "\n",
        "for model_id, f_model in id_model.items():\n",
        "  acc = round(f_model.history['accuracy'][-1], 5)\n",
        "  if acc > max_acc:\n",
        "    max_acc = acc\n",
        "    best_model_id = model_id\n",
        "\n",
        "\n",
        "  acc_vals.append(acc)\n",
        "  acc_labels.append(model_id)\n",
        "\n",
        "  loss = round(f_model.history['loss'][-1],5)\n",
        "  loss_vals.append(loss)\n",
        "  print(f'{model_id}: accuracy: {acc}, loss: {loss}')\n",
        "\n",
        "\n",
        "plt.plot(acc_vals, 'ro')\n",
        "plt.title('Визуализация точности моделей')\n",
        "plt.xlabel('Количество моделей', color='gray')\n",
        "plt.ylabel(\"Точность\")\n",
        "\n"
      ],
      "metadata": {
        "colab": {
          "base_uri": "https://localhost:8080/",
          "height": 698
        },
        "id": "A_YVkVcO6dKn",
        "outputId": "12b0dc26-70d7-4b01-ed50-554c6034f863"
      },
      "execution_count": 208,
      "outputs": [
        {
          "output_type": "stream",
          "name": "stdout",
          "text": [
            "Optimizer Adamax loss function sparse_categorical_crossentropy: accuracy: 0.71436, loss: 0.95816\n",
            "Optimizer Adamax loss function categorical_hinge: accuracy: 0.37113, loss: 0.10984\n",
            "Optimizer Adamax loss function poisson: accuracy: 0.09855, loss: 10.35703\n",
            "Optimizer Adadelta loss function sparse_categorical_crossentropy: accuracy: 0.11174, loss: 2.30187\n",
            "Optimizer Adadelta loss function categorical_hinge: accuracy: 0.10156, loss: 0.10957\n",
            "Optimizer Adadelta loss function poisson: accuracy: 0.09998, loss: 10.35605\n",
            "Optimizer Sgd loss function sparse_categorical_crossentropy: accuracy: 0.20894, loss: 2.02507\n",
            "Optimizer Sgd loss function categorical_hinge: accuracy: 0.2026, loss: 0.11028\n",
            "Optimizer Sgd loss function poisson: accuracy: 0.10478, loss: 10.35407\n",
            "Optimizer Adam loss function sparse_categorical_crossentropy: accuracy: 0.20854, loss: 2.04071\n",
            "Optimizer Adam loss function categorical_hinge: accuracy: 0.16565, loss: 0.10958\n",
            "Optimizer Adam loss function poisson: accuracy: 0.09993, loss: 10.35407\n"
          ]
        },
        {
          "output_type": "execute_result",
          "data": {
            "text/plain": [
              "Text(0, 0.5, 'Точность')"
            ]
          },
          "metadata": {},
          "execution_count": 208
        },
        {
          "output_type": "display_data",
          "data": {
            "text/plain": [
              "<Figure size 640x480 with 1 Axes>"
            ],
            "image/png": "[encoded data removed]"
          },
          "metadata": {}
        }
      ]
    },
    {
      "cell_type": "code",
      "source": [
        "#Выведем модель с наибольшей точностью, а так же ее параметры\n",
        "print(f'best model is: {best_model_id}')\n",
        "print(f'Model accuracy {max_acc}')\n",
        "print(\"Model los: \", id_model[best_model_id].history['loss'][-1])"
      ],
      "metadata": {
        "colab": {
          "base_uri": "https://localhost:8080/"
        },
        "id": "R5wzVDB7zBBu",
        "outputId": "15580480-c50f-4eb3-918d-349ca394d5e1"
      },
      "execution_count": 214,
      "outputs": [
        {
          "output_type": "stream",
          "name": "stdout",
          "text": [
            "best model is: Optimizer Adamax loss function sparse_categorical_crossentropy\n",
            "Model accuracy0.71436\n",
            "Model los:  0.9581592679023743\n"
          ]
        }
      ]
    },
    {
      "cell_type": "code",
      "source": [
        "from matplotlib import pyplot as plt\n",
        "best_model = id_model[best_model_id]\n",
        "\n",
        "plt.plot(range(len(best_model.epoch)), best_model.history['accuracy'], label='Точность модели на 10 эпохах обучения')\n",
        "plt.legend()\n",
        "plt.show()"
      ],
      "metadata": {
        "colab": {
          "base_uri": "https://localhost:8080/",
          "height": 430
        },
        "id": "Ch7deivmzBE-",
        "outputId": "637ac4b8-1342-4806-9ef7-e689a56bf9aa"
      },
      "execution_count": 217,
      "outputs": [
        {
          "output_type": "display_data",
          "data": {
            "text/plain": [
              "<Figure size 640x480 with 1 Axes>"
            ],
            "image/png": "[encoded data removed]"
          },
          "metadata": {}
        }
      ]
    },
    {
      "cell_type": "code",
      "source": [
        "#Сохранием удачную модель в файл для дальнейшего использования\n",
        "import pickle\n",
        "\n",
        "with open(\"model.pickle\", \"wb\") as file:\n",
        "    pickle.dump(model, file)"
      ],
      "metadata": {
        "id": "e3XutRq7zBHi"
      },
      "execution_count": 86,
      "outputs": []
    },
    {
      "cell_type": "code",
      "source": [
        "#создадим функцию, которая принимает путь к файлу, и использует модель для классификации\n",
        "import pickle\n",
        "\n",
        "with open(\"model.pickle\", \"rb\") as file:\n",
        "    model = pickle.load(file)\n",
        "    file.close()\n",
        "\n",
        "def predict_image(file):\n",
        "  try:\n",
        "    with open(file, \"rb\") as f:\n",
        "      image_data = f.read()\n",
        "      f.close()\n",
        "      return model.predict(image_data)\n",
        "  except FileNotFoundError:\n",
        "    print(\"ERROR! FILE NOT FOUD\")\n",
        "\n",
        ""
      ],
      "metadata": {
        "id": "KWkJZj_ozBKJ"
      },
      "execution_count": 83,
      "outputs": []
    }
  ]
}